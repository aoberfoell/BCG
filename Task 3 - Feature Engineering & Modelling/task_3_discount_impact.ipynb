{
 "cells": [
  {
   "cell_type": "markdown",
   "metadata": {},
   "source": [
    "# Discount Impact\n",
    "- We want to briefly analyze the impact of offering a 20% discount to customers who are likely to churn as suggested by the SME division head\n",
    "- Since PowerCo's pricing structure is not very clear we approximate revenue with forecast_price_energy_off_peak (price) * forecast_cons_12m (amount)\n",
    "- The pricing structure is probably much more complex and would need to be discussed with PowerCo for a more complete analysis"
   ]
  },
  {
   "cell_type": "code",
   "execution_count": 1,
   "metadata": {},
   "outputs": [],
   "source": [
    "import pandas as pd"
   ]
  },
  {
   "cell_type": "code",
   "execution_count": 2,
   "metadata": {},
   "outputs": [],
   "source": [
    "# Load out of sample test data with churn predictions\n",
    "df = pd.read_csv(\"test_predictions.csv\")"
   ]
  },
  {
   "cell_type": "markdown",
   "metadata": {},
   "source": [
    "## Revenue with no discount"
   ]
  },
  {
   "cell_type": "code",
   "execution_count": 3,
   "metadata": {},
   "outputs": [
    {
     "data": {
      "text/plain": [
       "645211.52"
      ]
     },
     "execution_count": 3,
     "metadata": {},
     "output_type": "execute_result"
    }
   ],
   "source": [
    "# Revenue if no churn\n",
    "df[\"revenue\"] = df[\"forecast_price_energy_off_peak\"] * df[\"forecast_cons_12m\"]\n",
    "# Churn corresponds to the customer churning in the next 3 months\n",
    "# We use 01.01.2016 as current date\n",
    "# The revenue for a churning customer is therefore approximated as revenue over the next 12 months * 3/12\n",
    "df[\"revenue_churn\"] = df[\"revenue\"] * 3/12\n",
    "# compute the actual revenue\n",
    "df.apply(lambda row: row[\"revenue\"] if row[\"churn\"]==0 else row[\"revenue_churn\"], axis=1).sum().round(2)"
   ]
  },
  {
   "cell_type": "markdown",
   "metadata": {},
   "source": [
    "- The approximate revenue for the next your without intervention is 645211"
   ]
  },
  {
   "cell_type": "markdown",
   "metadata": {},
   "source": [
    "## Revenue with discount\n",
    "- If the model predicts that a customer is likely to churn, the customer is offered a 20% discount\n",
    "- *Assumption*: Any customer who is offered a discount will accept the offer and not churn"
   ]
  },
  {
   "cell_type": "code",
   "execution_count": 4,
   "metadata": {},
   "outputs": [
    {
     "data": {
      "text/plain": [
       "646031.37"
      ]
     },
     "execution_count": 4,
     "metadata": {},
     "output_type": "execute_result"
    }
   ],
   "source": [
    "def get_revenue(row):\n",
    "    # no churn predcited and client does not churn\n",
    "    if row[\"churn\"] == 0 and row[\"churn_prediction\"] == 0:\n",
    "        return row[\"revenue\"]\n",
    "    # no churn predicted but client churns\n",
    "    elif row[\"churn\"] == 1 and row[\"churn_prediction\"] == 0:\n",
    "        return row[\"revenue_churn\"]\n",
    "    # churn predicted and client is offered discount\n",
    "    else:\n",
    "        return row[\"revenue_discount\"]\n",
    "    \n",
    "discount = 0.2\n",
    "df[\"revenue_discount\"] = df[\"revenue\"] * (1 - discount)\n",
    "df.apply(lambda row: get_revenue(row), axis=1).sum().round(2)"
   ]
  },
  {
   "cell_type": "markdown",
   "metadata": {},
   "source": [
    "- The approximate revenue for the next year offering a 20% discount to customers for whom the models predict churn is 646031\n",
    "- This is slightly higher than the revenue without the intervention\n",
    "- However, bote that this is only a very simplified analysis"
   ]
  },
  {
   "cell_type": "markdown",
   "metadata": {},
   "source": [
    "## Next steps\n",
    "- Different discount percentages can be compared to maximize expected revenue\n",
    "- A different cutoff for churn probability can be used, currently a customer is predicted to churn if the churn probability is > 0.5"
   ]
  }
 ],
 "metadata": {
  "kernelspec": {
   "display_name": "ml_2_env",
   "language": "python",
   "name": "python3"
  },
  "language_info": {
   "codemirror_mode": {
    "name": "ipython",
    "version": 3
   },
   "file_extension": ".py",
   "mimetype": "text/x-python",
   "name": "python",
   "nbconvert_exporter": "python",
   "pygments_lexer": "ipython3",
   "version": "3.10.0"
  },
  "orig_nbformat": 4
 },
 "nbformat": 4,
 "nbformat_minor": 2
}
